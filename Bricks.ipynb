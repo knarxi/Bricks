{
 "cells": [
  {
   "cell_type": "markdown",
   "metadata": {},
   "source": [
    "We want to make a row of bricks that is goal inches long. We have a number of small bricks (1 inch each) and big bricks (5 inches each). Return True if it is possible to make the goal by choosing from the given bricks. This is a little harder than it looks and can be done without any loops."
   ]
  },
  {
   "cell_type": "code",
   "execution_count": null,
   "metadata": {},
   "outputs": [],
   "source": [
    "def make_bricks(small, big, goal):\n",
    "    brick = 5\n",
    "    brick2 = 0\n",
    "    i = 1\n",
    "    while brick < goal and i <= big:\n",
    "        i = i + 1\n",
    "        brick2 = i * brick\n",
    "    else:\n",
    "        brick3 = brick2-5\n",
    "        div=goal//brick3\n",
    "   \n",
    "    if div > big or big*5+small<goal:\n",
    "        return(\"Not Possible\")\n",
    "        pass\n",
    "    else: \n",
    "        rest = goal-div*brick3\n",
    "        if rest == 0:\n",
    "            return(\"You  need 0 small bars and \"+str(i)+\" big bars\")\n",
    "        else:\n",
    "            for j in range(0,small):\n",
    "                if j == rest:\n",
    "                    return(\"You  need \"+str(j)+\" small bars and \"+ str(i-1)+ \" big bars\")\n",
    "                    break\n",
    "                else:\n",
    "                    if j <= small+1:\n",
    "                        continue\n",
    "                    else:\n",
    "                        return(\"Not Possible\")"
   ]
  }
 ],
 "metadata": {
  "kernelspec": {
   "display_name": "Python 3",
   "language": "python",
   "name": "python3"
  },
  "language_info": {
   "codemirror_mode": {
    "name": "ipython",
    "version": 3
   },
   "file_extension": ".py",
   "mimetype": "text/x-python",
   "name": "python",
   "nbconvert_exporter": "python",
   "pygments_lexer": "ipython3",
   "version": "3.7.1"
  },
  "widgets": {
   "application/vnd.jupyter.widget-state+json": {
    "state": {},
    "version_major": 2,
    "version_minor": 0
   }
  }
 },
 "nbformat": 4,
 "nbformat_minor": 2
}
